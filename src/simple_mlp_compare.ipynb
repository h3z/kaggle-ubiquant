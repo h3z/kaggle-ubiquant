{
 "cells": [
  {
   "cell_type": "code",
   "execution_count": 1,
   "metadata": {},
   "outputs": [],
   "source": [
    "%load_ext autoreload\n",
    "%autoreload 2s"
   ]
  },
  {
   "cell_type": "code",
   "execution_count": 1,
   "metadata": {},
   "outputs": [],
   "source": [
    "import sys\n",
    "sys.path.append('../src')\n",
    "import tensorflow as tf\n",
    "import tensorflow.keras as k\n",
    "import pandas as pd\n",
    "import numpy as np\n",
    "import test_submit\n",
    "from scipy import stats\n",
    "import matplotlib.pyplot as plt"
   ]
  },
  {
   "cell_type": "code",
   "execution_count": 2,
   "metadata": {},
   "outputs": [],
   "source": [
    "train = pd.read_pickle('../inputs/dataset/train.pkl')\n",
    "investment_id = train.pop('investment_id')\n",
    "y = train.pop('target')"
   ]
  },
  {
   "cell_type": "code",
   "execution_count": 4,
   "metadata": {},
   "outputs": [
    {
     "data": {
      "text/html": [
       "<div>\n",
       "<style scoped>\n",
       "    .dataframe tbody tr th:only-of-type {\n",
       "        vertical-align: middle;\n",
       "    }\n",
       "\n",
       "    .dataframe tbody tr th {\n",
       "        vertical-align: top;\n",
       "    }\n",
       "\n",
       "    .dataframe thead th {\n",
       "        text-align: right;\n",
       "    }\n",
       "</style>\n",
       "<table border=\"1\" class=\"dataframe\">\n",
       "  <thead>\n",
       "    <tr style=\"text-align: right;\">\n",
       "      <th></th>\n",
       "      <th>count</th>\n",
       "      <th>mean</th>\n",
       "      <th>std</th>\n",
       "      <th>min</th>\n",
       "      <th>25%</th>\n",
       "      <th>50%</th>\n",
       "      <th>75%</th>\n",
       "      <th>max</th>\n",
       "    </tr>\n",
       "  </thead>\n",
       "  <tbody>\n",
       "    <tr>\n",
       "      <th>investment_id</th>\n",
       "      <td>3141410.0</td>\n",
       "      <td>1885.265159</td>\n",
       "      <td>1083.615850</td>\n",
       "      <td>0.000000</td>\n",
       "      <td>952.000000</td>\n",
       "      <td>1882.000000</td>\n",
       "      <td>2830.000000</td>\n",
       "      <td>3773.000000</td>\n",
       "    </tr>\n",
       "    <tr>\n",
       "      <th>time_id</th>\n",
       "      <td>3141410.0</td>\n",
       "      <td>665.486238</td>\n",
       "      <td>356.043409</td>\n",
       "      <td>0.000000</td>\n",
       "      <td>353.000000</td>\n",
       "      <td>704.000000</td>\n",
       "      <td>975.000000</td>\n",
       "      <td>1219.000000</td>\n",
       "    </tr>\n",
       "    <tr>\n",
       "      <th>f_0</th>\n",
       "      <td>3141410.0</td>\n",
       "      <td>0.000000</td>\n",
       "      <td>0.000000</td>\n",
       "      <td>-17.656250</td>\n",
       "      <td>-0.407227</td>\n",
       "      <td>0.243164</td>\n",
       "      <td>0.665039</td>\n",
       "      <td>7.843750</td>\n",
       "    </tr>\n",
       "    <tr>\n",
       "      <th>f_1</th>\n",
       "      <td>3141410.0</td>\n",
       "      <td>-0.000000</td>\n",
       "      <td>0.000000</td>\n",
       "      <td>-6.578125</td>\n",
       "      <td>-0.681152</td>\n",
       "      <td>-0.048676</td>\n",
       "      <td>0.608887</td>\n",
       "      <td>8.710938</td>\n",
       "    </tr>\n",
       "    <tr>\n",
       "      <th>f_2</th>\n",
       "      <td>3141410.0</td>\n",
       "      <td>0.000000</td>\n",
       "      <td>0.000000</td>\n",
       "      <td>-8.640625</td>\n",
       "      <td>-0.653320</td>\n",
       "      <td>0.043518</td>\n",
       "      <td>0.658691</td>\n",
       "      <td>8.007812</td>\n",
       "    </tr>\n",
       "    <tr>\n",
       "      <th>...</th>\n",
       "      <td>...</td>\n",
       "      <td>...</td>\n",
       "      <td>...</td>\n",
       "      <td>...</td>\n",
       "      <td>...</td>\n",
       "      <td>...</td>\n",
       "      <td>...</td>\n",
       "      <td>...</td>\n",
       "    </tr>\n",
       "    <tr>\n",
       "      <th>f_296</th>\n",
       "      <td>3141410.0</td>\n",
       "      <td>-0.000000</td>\n",
       "      <td>0.000000</td>\n",
       "      <td>-7.367188</td>\n",
       "      <td>-0.957520</td>\n",
       "      <td>0.006954</td>\n",
       "      <td>0.950195</td>\n",
       "      <td>7.679688</td>\n",
       "    </tr>\n",
       "    <tr>\n",
       "      <th>f_297</th>\n",
       "      <td>3141410.0</td>\n",
       "      <td>-0.000000</td>\n",
       "      <td>0.000000</td>\n",
       "      <td>-7.578125</td>\n",
       "      <td>-0.724121</td>\n",
       "      <td>-0.165039</td>\n",
       "      <td>0.609863</td>\n",
       "      <td>12.421875</td>\n",
       "    </tr>\n",
       "    <tr>\n",
       "      <th>f_298</th>\n",
       "      <td>3141410.0</td>\n",
       "      <td>-0.000000</td>\n",
       "      <td>0.000000</td>\n",
       "      <td>-6.707031</td>\n",
       "      <td>-0.816406</td>\n",
       "      <td>0.023010</td>\n",
       "      <td>0.798340</td>\n",
       "      <td>7.003906</td>\n",
       "    </tr>\n",
       "    <tr>\n",
       "      <th>f_299</th>\n",
       "      <td>3141410.0</td>\n",
       "      <td>-0.000000</td>\n",
       "      <td>0.000000</td>\n",
       "      <td>-10.281250</td>\n",
       "      <td>-0.507812</td>\n",
       "      <td>-0.282471</td>\n",
       "      <td>0.141113</td>\n",
       "      <td>43.375000</td>\n",
       "    </tr>\n",
       "    <tr>\n",
       "      <th>target</th>\n",
       "      <td>3141410.0</td>\n",
       "      <td>NaN</td>\n",
       "      <td>0.000000</td>\n",
       "      <td>-9.421875</td>\n",
       "      <td>-0.500488</td>\n",
       "      <td>-0.097168</td>\n",
       "      <td>0.357178</td>\n",
       "      <td>12.039062</td>\n",
       "    </tr>\n",
       "  </tbody>\n",
       "</table>\n",
       "<p>303 rows × 8 columns</p>\n",
       "</div>"
      ],
      "text/plain": [
       "                   count         mean          std        min         25%  \\\n",
       "investment_id  3141410.0  1885.265159  1083.615850   0.000000  952.000000   \n",
       "time_id        3141410.0   665.486238   356.043409   0.000000  353.000000   \n",
       "f_0            3141410.0     0.000000     0.000000 -17.656250   -0.407227   \n",
       "f_1            3141410.0    -0.000000     0.000000  -6.578125   -0.681152   \n",
       "f_2            3141410.0     0.000000     0.000000  -8.640625   -0.653320   \n",
       "...                  ...          ...          ...        ...         ...   \n",
       "f_296          3141410.0    -0.000000     0.000000  -7.367188   -0.957520   \n",
       "f_297          3141410.0    -0.000000     0.000000  -7.578125   -0.724121   \n",
       "f_298          3141410.0    -0.000000     0.000000  -6.707031   -0.816406   \n",
       "f_299          3141410.0    -0.000000     0.000000 -10.281250   -0.507812   \n",
       "target         3141410.0          NaN     0.000000  -9.421875   -0.500488   \n",
       "\n",
       "                       50%          75%          max  \n",
       "investment_id  1882.000000  2830.000000  3773.000000  \n",
       "time_id         704.000000   975.000000  1219.000000  \n",
       "f_0               0.243164     0.665039     7.843750  \n",
       "f_1              -0.048676     0.608887     8.710938  \n",
       "f_2               0.043518     0.658691     8.007812  \n",
       "...                    ...          ...          ...  \n",
       "f_296             0.006954     0.950195     7.679688  \n",
       "f_297            -0.165039     0.609863    12.421875  \n",
       "f_298             0.023010     0.798340     7.003906  \n",
       "f_299            -0.282471     0.141113    43.375000  \n",
       "target           -0.097168     0.357178    12.039062  \n",
       "\n",
       "[303 rows x 8 columns]"
      ]
     },
     "execution_count": 4,
     "metadata": {},
     "output_type": "execute_result"
    }
   ],
   "source": [
    "pd.read_pickle('../inputs/dataset/train.pkl').describe().T"
   ]
  },
  {
   "cell_type": "code",
   "execution_count": 18,
   "metadata": {},
   "outputs": [],
   "source": [
    "# investment_ids = list(investment_id.unique())\n",
    "# investment_id_size = len(investment_ids) + 1\n",
    "# investment_id_lookup_layer = k.layers.IntegerLookup(max_tokens=investment_id_size)\n",
    "# investment_id_lookup_layer.adapt(pd.DataFrame({\"investment_ids\":investment_ids}))"
   ]
  },
  {
   "cell_type": "code",
   "execution_count": 77,
   "metadata": {},
   "outputs": [],
   "source": [
    "features = [f'f_{i}' for i in range(300)]\n",
    "batch_size = 1024\n",
    "epochs = 30\n",
    "\n",
    "def get_model():\n",
    "    # activation = 'relu'\n",
    "    # kernel_regularizer = None\n",
    "    activation = 'swish'\n",
    "    kernel_regularizer = 'l2'\n",
    "\n",
    "    # investment_id_inputs = tf.keras.Input((1, ), dtype=tf.uint16)\n",
    "    # investment_id_x = investment_id_lookup_layer(investment_id_inputs)\n",
    "    # investment_id_x = k.layers.Embedding(investment_id_size, 32, input_length=1)(investment_id_x)\n",
    "    # investment_id_x = k.layers.Reshape((-1, ))(investment_id_x)\n",
    "    # investment_id_x = k.layers.Dense(64, activation=activation)(investment_id_x)\n",
    "    # investment_id_x = k.layers.Dense(64, activation=activation)(investment_id_x)\n",
    "    # investment_id_x = k.layers.Dense(64, activation=activation)(investment_id_x)\n",
    "    \n",
    "\n",
    "\n",
    "    feature_inputs = k.Input((300,), dtype=tf.float16)\n",
    "    feature_x = k.layers.Dense(64, activation=activation)(feature_inputs)\n",
    "    # feature_x = k.layers.Dense(256, activation=activation)(feature_x)\n",
    "    feature_x = k.layers.Dropout(.5)(feature_x)\n",
    "    feature_x = k.layers.Dense(16, activation=activation)(feature_x)\n",
    "    feature_x = k.layers.Dropout(.5)(feature_x)\n",
    "\n",
    "    # feature_x = k.layers.Dropout(.5)(feature_x)\n",
    "        \n",
    "    # x = k.layers.Concatenate(axis=1)([investment_id_x, feature_x])\n",
    "    # x = k.layers.Dense(512, activation=activation, kernel_regularizer=kernel_regularizer)(x)\n",
    "    # x = k.layers.Dense(128, activation=activation, kernel_regularizer=kernel_regularizer)(x)\n",
    "    # x = k.layers.Dense(32, activation=activation, kernel_regularizer=kernel_regularizer)(x)\n",
    "\n",
    "    # output = k.layers.Dense(1, activation='sigmoid')(x)\n",
    "    # output = k.layers.Dense(1)(x)\n",
    "    # model = k.Model(inputs=[investment_id_inputs, feature_inputs], outputs=[output])\n",
    "    # model.compile(optimizer=k.optimizers.Adam(0.001), loss='mse', metrics=['mse', 'mae', 'mape'])\n",
    "\n",
    "    output = k.layers.Dense(1)(feature_x)\n",
    "    model = k.Model(inputs=[feature_inputs], outputs=[output])\n",
    "    model.compile(optimizer=k.optimizers.Adam(), loss='mse', metrics=['mse', 'mae', 'mape'])\n",
    "\n",
    "\n",
    "    return model\n",
    "\n",
    "def eval(model):\n",
    "    return test_submit.eval(lambda test: model.predict(test[features]))\n",
    "\n",
    "def make_dataset(feature, y, investment_id, mode=\"train\"):\n",
    "    # ds = tf.data.Dataset.from_tensor_slices(((investment_id, feature), y))\n",
    "    ds = tf.data.Dataset.from_tensor_slices((feature, y))\n",
    "    if mode == \"train\":\n",
    "        ds = ds.shuffle(4096)\n",
    "    ds = ds.batch(batch_size).cache().prefetch(tf.data.experimental.AUTOTUNE)\n",
    "    return ds\n",
    "\n",
    "\n",
    "def get_callbacks(i):\n",
    "    checkpoint = k.callbacks.ModelCheckpoint(f'../outputs/models/my_simple_nn_{i}', save_best_only=True)\n",
    "    earlystopping = k.callbacks.EarlyStopping(patience=10)\n",
    "    return [checkpoint, earlystopping]\n"
   ]
  },
  {
   "cell_type": "code",
   "execution_count": 78,
   "metadata": {},
   "outputs": [],
   "source": [
    "# model = get_model()\n",
    "# model.summary()\n",
    "# k.utils.plot_model(model, show_shapes=True)"
   ]
  },
  {
   "cell_type": "code",
   "execution_count": 80,
   "metadata": {},
   "outputs": [
    {
     "name": "stdout",
     "output_type": "stream",
     "text": [
      "Epoch 1/30\n",
      "2455/2455 [==============================] - 6s 2ms/step - loss: 0.8725 - mse: 0.8725 - mae: 0.6429 - mape: 142845.6094 - val_loss: 0.8384 - val_mse: 0.8384 - val_mae: 0.6302 - val_mape: 92054.9531\n",
      "INFO:tensorflow:Assets written to: ../outputs/models/my_simple_nn_0/assets\n"
     ]
    },
    {
     "name": "stderr",
     "output_type": "stream",
     "text": [
      "INFO:tensorflow:Assets written to: ../outputs/models/my_simple_nn_0/assets\n"
     ]
    },
    {
     "name": "stdout",
     "output_type": "stream",
     "text": [
      "Epoch 2/30\n",
      "2455/2455 [==============================] - 4s 2ms/step - loss: 0.8352 - mse: 0.8352 - mae: 0.6262 - mape: 99002.8125 - val_loss: 0.8360 - val_mse: 0.8360 - val_mae: 0.6285 - val_mape: 105743.6875\n",
      "INFO:tensorflow:Assets written to: ../outputs/models/my_simple_nn_0/assets\n"
     ]
    },
    {
     "name": "stderr",
     "output_type": "stream",
     "text": [
      "INFO:tensorflow:Assets written to: ../outputs/models/my_simple_nn_0/assets\n"
     ]
    },
    {
     "name": "stdout",
     "output_type": "stream",
     "text": [
      "Epoch 3/30\n",
      "2455/2455 [==============================] - 4s 2ms/step - loss: 0.8327 - mse: 0.8327 - mae: 0.6251 - mape: 105066.8672 - val_loss: 0.8352 - val_mse: 0.8352 - val_mae: 0.6284 - val_mape: 124835.2500\n",
      "INFO:tensorflow:Assets written to: ../outputs/models/my_simple_nn_0/assets\n"
     ]
    },
    {
     "name": "stderr",
     "output_type": "stream",
     "text": [
      "INFO:tensorflow:Assets written to: ../outputs/models/my_simple_nn_0/assets\n"
     ]
    },
    {
     "name": "stdout",
     "output_type": "stream",
     "text": [
      "Epoch 4/30\n",
      "2455/2455 [==============================] - 4s 2ms/step - loss: 0.8320 - mse: 0.8320 - mae: 0.6248 - mape: 100508.1172 - val_loss: 0.8351 - val_mse: 0.8351 - val_mae: 0.6285 - val_mape: 98999.9375\n",
      "INFO:tensorflow:Assets written to: ../outputs/models/my_simple_nn_0/assets\n"
     ]
    },
    {
     "name": "stderr",
     "output_type": "stream",
     "text": [
      "INFO:tensorflow:Assets written to: ../outputs/models/my_simple_nn_0/assets\n"
     ]
    },
    {
     "name": "stdout",
     "output_type": "stream",
     "text": [
      "Epoch 5/30\n",
      "2455/2455 [==============================] - 4s 2ms/step - loss: 0.8311 - mse: 0.8311 - mae: 0.6245 - mape: 103022.4609 - val_loss: 0.8340 - val_mse: 0.8340 - val_mae: 0.6276 - val_mape: 152602.2500\n",
      "INFO:tensorflow:Assets written to: ../outputs/models/my_simple_nn_0/assets\n"
     ]
    },
    {
     "name": "stderr",
     "output_type": "stream",
     "text": [
      "INFO:tensorflow:Assets written to: ../outputs/models/my_simple_nn_0/assets\n"
     ]
    },
    {
     "name": "stdout",
     "output_type": "stream",
     "text": [
      "Epoch 6/30\n",
      "2455/2455 [==============================] - 4s 2ms/step - loss: 0.8303 - mse: 0.8303 - mae: 0.6242 - mape: 96320.0156 - val_loss: 0.8336 - val_mse: 0.8336 - val_mae: 0.6277 - val_mape: 127643.1953\n",
      "INFO:tensorflow:Assets written to: ../outputs/models/my_simple_nn_0/assets\n"
     ]
    },
    {
     "name": "stderr",
     "output_type": "stream",
     "text": [
      "INFO:tensorflow:Assets written to: ../outputs/models/my_simple_nn_0/assets\n"
     ]
    },
    {
     "name": "stdout",
     "output_type": "stream",
     "text": [
      "Epoch 7/30\n",
      "2455/2455 [==============================] - 5s 2ms/step - loss: 0.8297 - mse: 0.8297 - mae: 0.6239 - mape: 108563.7109 - val_loss: 0.8337 - val_mse: 0.8337 - val_mae: 0.6279 - val_mape: 111856.2891\n",
      "Epoch 8/30\n",
      "2455/2455 [==============================] - 4s 2ms/step - loss: 0.8293 - mse: 0.8293 - mae: 0.6238 - mape: 105997.2266 - val_loss: 0.8335 - val_mse: 0.8335 - val_mae: 0.6280 - val_mape: 106676.8359\n",
      "INFO:tensorflow:Assets written to: ../outputs/models/my_simple_nn_0/assets\n"
     ]
    },
    {
     "name": "stderr",
     "output_type": "stream",
     "text": [
      "INFO:tensorflow:Assets written to: ../outputs/models/my_simple_nn_0/assets\n"
     ]
    },
    {
     "name": "stdout",
     "output_type": "stream",
     "text": [
      "Epoch 9/30\n",
      "2455/2455 [==============================] - 5s 2ms/step - loss: 0.8291 - mse: 0.8291 - mae: 0.6238 - mape: 109209.5391 - val_loss: 0.8330 - val_mse: 0.8330 - val_mae: 0.6272 - val_mape: 103079.4219\n",
      "INFO:tensorflow:Assets written to: ../outputs/models/my_simple_nn_0/assets\n"
     ]
    },
    {
     "name": "stderr",
     "output_type": "stream",
     "text": [
      "INFO:tensorflow:Assets written to: ../outputs/models/my_simple_nn_0/assets\n"
     ]
    },
    {
     "name": "stdout",
     "output_type": "stream",
     "text": [
      "Epoch 10/30\n",
      "2455/2455 [==============================] - 5s 2ms/step - loss: 0.8286 - mse: 0.8286 - mae: 0.6236 - mape: 113007.5781 - val_loss: 0.8334 - val_mse: 0.8334 - val_mae: 0.6277 - val_mape: 133790.7656\n",
      "Epoch 11/30\n",
      "2455/2455 [==============================] - 5s 2ms/step - loss: 0.8284 - mse: 0.8284 - mae: 0.6235 - mape: 109689.5781 - val_loss: 0.8330 - val_mse: 0.8330 - val_mae: 0.6273 - val_mape: 118449.3203\n",
      "Epoch 12/30\n",
      "2455/2455 [==============================] - 4s 2ms/step - loss: 0.8281 - mse: 0.8281 - mae: 0.6234 - mape: 106135.5000 - val_loss: 0.8327 - val_mse: 0.8327 - val_mae: 0.6275 - val_mape: 142327.9375\n",
      "INFO:tensorflow:Assets written to: ../outputs/models/my_simple_nn_0/assets\n"
     ]
    },
    {
     "name": "stderr",
     "output_type": "stream",
     "text": [
      "INFO:tensorflow:Assets written to: ../outputs/models/my_simple_nn_0/assets\n"
     ]
    },
    {
     "name": "stdout",
     "output_type": "stream",
     "text": [
      "Epoch 13/30\n",
      "2455/2455 [==============================] - 4s 2ms/step - loss: 0.8277 - mse: 0.8277 - mae: 0.6232 - mape: 109304.8828 - val_loss: 0.8331 - val_mse: 0.8331 - val_mae: 0.6278 - val_mape: 116747.4688\n",
      "Epoch 14/30\n",
      "2455/2455 [==============================] - 4s 2ms/step - loss: 0.8275 - mse: 0.8275 - mae: 0.6232 - mape: 107563.2969 - val_loss: 0.8321 - val_mse: 0.8321 - val_mae: 0.6272 - val_mape: 121803.7422\n",
      "INFO:tensorflow:Assets written to: ../outputs/models/my_simple_nn_0/assets\n"
     ]
    },
    {
     "name": "stderr",
     "output_type": "stream",
     "text": [
      "INFO:tensorflow:Assets written to: ../outputs/models/my_simple_nn_0/assets\n"
     ]
    },
    {
     "name": "stdout",
     "output_type": "stream",
     "text": [
      "Epoch 15/30\n",
      "2455/2455 [==============================] - 4s 2ms/step - loss: 0.8272 - mse: 0.8272 - mae: 0.6231 - mape: 114175.9297 - val_loss: 0.8327 - val_mse: 0.8327 - val_mae: 0.6275 - val_mape: 122983.6484\n",
      "Epoch 16/30\n",
      "2455/2455 [==============================] - 5s 2ms/step - loss: 0.8272 - mse: 0.8272 - mae: 0.6231 - mape: 111572.7969 - val_loss: 0.8320 - val_mse: 0.8320 - val_mae: 0.6274 - val_mape: 108769.5938\n",
      "INFO:tensorflow:Assets written to: ../outputs/models/my_simple_nn_0/assets\n"
     ]
    },
    {
     "name": "stderr",
     "output_type": "stream",
     "text": [
      "INFO:tensorflow:Assets written to: ../outputs/models/my_simple_nn_0/assets\n"
     ]
    },
    {
     "name": "stdout",
     "output_type": "stream",
     "text": [
      "Epoch 17/30\n",
      "2455/2455 [==============================] - 4s 2ms/step - loss: 0.8270 - mse: 0.8270 - mae: 0.6230 - mape: 112318.6406 - val_loss: 0.8325 - val_mse: 0.8325 - val_mae: 0.6274 - val_mape: 117080.0078\n",
      "Epoch 18/30\n",
      "2455/2455 [==============================] - 4s 2ms/step - loss: 0.8270 - mse: 0.8270 - mae: 0.6230 - mape: 103636.4531 - val_loss: 0.8310 - val_mse: 0.8310 - val_mae: 0.6269 - val_mape: 133605.2500\n",
      "INFO:tensorflow:Assets written to: ../outputs/models/my_simple_nn_0/assets\n"
     ]
    },
    {
     "name": "stderr",
     "output_type": "stream",
     "text": [
      "INFO:tensorflow:Assets written to: ../outputs/models/my_simple_nn_0/assets\n"
     ]
    },
    {
     "name": "stdout",
     "output_type": "stream",
     "text": [
      "Epoch 19/30\n",
      "2455/2455 [==============================] - 4s 2ms/step - loss: 0.8268 - mse: 0.8268 - mae: 0.6231 - mape: 113751.3359 - val_loss: 0.8320 - val_mse: 0.8320 - val_mae: 0.6271 - val_mape: 110517.6172\n",
      "Epoch 20/30\n",
      "2455/2455 [==============================] - 4s 2ms/step - loss: 0.8264 - mse: 0.8264 - mae: 0.6228 - mape: 106082.8438 - val_loss: 0.8325 - val_mse: 0.8325 - val_mae: 0.6276 - val_mape: 127340.2500\n",
      "Epoch 21/30\n",
      "2455/2455 [==============================] - 4s 2ms/step - loss: 0.8264 - mse: 0.8264 - mae: 0.6229 - mape: 101458.2891 - val_loss: 0.8321 - val_mse: 0.8321 - val_mae: 0.6276 - val_mape: 119960.5781\n",
      "Epoch 22/30\n",
      "2455/2455 [==============================] - 4s 2ms/step - loss: 0.8262 - mse: 0.8262 - mae: 0.6228 - mape: 104879.1797 - val_loss: 0.8325 - val_mse: 0.8325 - val_mae: 0.6276 - val_mape: 88652.4219\n",
      "Epoch 23/30\n",
      "2455/2455 [==============================] - 4s 2ms/step - loss: 0.8262 - mse: 0.8262 - mae: 0.6229 - mape: 109300.9062 - val_loss: 0.8322 - val_mse: 0.8322 - val_mae: 0.6274 - val_mape: 111426.3516\n",
      "Epoch 24/30\n",
      "2455/2455 [==============================] - 5s 2ms/step - loss: 0.8260 - mse: 0.8260 - mae: 0.6228 - mape: 105245.8906 - val_loss: 0.8319 - val_mse: 0.8319 - val_mae: 0.6276 - val_mape: 122379.4688\n",
      "Epoch 25/30\n",
      "2455/2455 [==============================] - 4s 2ms/step - loss: 0.8259 - mse: 0.8259 - mae: 0.6228 - mape: 105741.0547 - val_loss: 0.8327 - val_mse: 0.8327 - val_mae: 0.6278 - val_mape: 107429.1719\n",
      "Epoch 26/30\n",
      "2455/2455 [==============================] - 4s 2ms/step - loss: 0.8259 - mse: 0.8259 - mae: 0.6227 - mape: 105140.3281 - val_loss: 0.8322 - val_mse: 0.8322 - val_mae: 0.6275 - val_mape: 84202.3672\n",
      "Epoch 27/30\n",
      "2455/2455 [==============================] - 4s 2ms/step - loss: 0.8258 - mse: 0.8258 - mae: 0.6227 - mape: 103442.3672 - val_loss: 0.8320 - val_mse: 0.8320 - val_mae: 0.6276 - val_mape: 101575.5312\n",
      "Epoch 28/30\n",
      "2455/2455 [==============================] - 4s 2ms/step - loss: 0.8258 - mse: 0.8258 - mae: 0.6227 - mape: 108423.2109 - val_loss: 0.8315 - val_mse: 0.8315 - val_mae: 0.6273 - val_mape: 127764.1641\n"
     ]
    },
    {
     "name": "stderr",
     "output_type": "stream",
     "text": [
      "WARNING:absl:Importing a function (__inference_dense_158_layer_call_and_return_conditional_losses_2250705) with ops with unsaved custom gradients. Will likely fail if a gradient is requested.\n",
      "WARNING:absl:Importing a function (__inference_dense_153_layer_call_and_return_conditional_losses_2250593) with ops with unsaved custom gradients. Will likely fail if a gradient is requested.\n",
      "WARNING:absl:Importing a function (__inference_dense_156_layer_call_and_return_conditional_losses_2250618) with ops with unsaved custom gradients. Will likely fail if a gradient is requested.\n",
      "WARNING:absl:Importing a function (__inference_dense_152_layer_call_and_return_conditional_losses_2249190) with ops with unsaved custom gradients. Will likely fail if a gradient is requested.\n",
      "WARNING:absl:Importing a function (__inference_dense_151_layer_call_and_return_conditional_losses_2249146) with ops with unsaved custom gradients. Will likely fail if a gradient is requested.\n",
      "WARNING:absl:Importing a function (__inference_model_26_layer_call_and_return_conditional_losses_2250340) with ops with unsaved custom gradients. Will likely fail if a gradient is requested.\n",
      "WARNING:absl:Importing a function (__inference_dense_156_layer_call_and_return_conditional_losses_2249234) with ops with unsaved custom gradients. Will likely fail if a gradient is requested.\n",
      "WARNING:absl:Importing a function (__inference_dense_154_layer_call_and_return_conditional_losses_2250518) with ops with unsaved custom gradients. Will likely fail if a gradient is requested.\n",
      "WARNING:absl:Importing a function (__inference_dense_153_layer_call_and_return_conditional_losses_2249212) with ops with unsaved custom gradients. Will likely fail if a gradient is requested.\n",
      "WARNING:absl:Importing a function (__inference_dense_157_layer_call_and_return_conditional_losses_2250668) with ops with unsaved custom gradients. Will likely fail if a gradient is requested.\n",
      "WARNING:absl:Importing a function (__inference_dense_151_layer_call_and_return_conditional_losses_2250493) with ops with unsaved custom gradients. Will likely fail if a gradient is requested.\n",
      "WARNING:absl:Importing a function (__inference_dense_154_layer_call_and_return_conditional_losses_2249124) with ops with unsaved custom gradients. Will likely fail if a gradient is requested.\n",
      "WARNING:absl:Importing a function (__inference_dense_157_layer_call_and_return_conditional_losses_2249271) with ops with unsaved custom gradients. Will likely fail if a gradient is requested.\n",
      "WARNING:absl:Importing a function (__inference__wrapped_model_2249066) with ops with unsaved custom gradients. Will likely fail if a gradient is requested.\n",
      "WARNING:absl:Importing a function (__inference_dense_152_layer_call_and_return_conditional_losses_2250543) with ops with unsaved custom gradients. Will likely fail if a gradient is requested.\n",
      "WARNING:absl:Importing a function (__inference_dense_159_layer_call_and_return_conditional_losses_2249327) with ops with unsaved custom gradients. Will likely fail if a gradient is requested.\n",
      "WARNING:absl:Importing a function (__inference_dense_158_layer_call_and_return_conditional_losses_2249299) with ops with unsaved custom gradients. Will likely fail if a gradient is requested.\n",
      "WARNING:absl:Importing a function (__inference_model_26_layer_call_and_return_conditional_losses_2250182) with ops with unsaved custom gradients. Will likely fail if a gradient is requested.\n",
      "WARNING:absl:Importing a function (__inference_dense_155_layer_call_and_return_conditional_losses_2249168) with ops with unsaved custom gradients. Will likely fail if a gradient is requested.\n",
      "WARNING:absl:Importing a function (__inference_dense_159_layer_call_and_return_conditional_losses_2250742) with ops with unsaved custom gradients. Will likely fail if a gradient is requested.\n",
      "WARNING:absl:Importing a function (__inference_dense_155_layer_call_and_return_conditional_losses_2250568) with ops with unsaved custom gradients. Will likely fail if a gradient is requested.\n"
     ]
    },
    {
     "name": "stdout",
     "output_type": "stream",
     "text": [
      "Pearson: (0.14096166878168978, 0.0)\n"
     ]
    },
    {
     "data": {
      "image/png": "[encoded data removed]",
      "text/plain": [
       "<Figure size 432x288 with 1 Axes>"
      ]
     },
     "metadata": {
      "needs_background": "light"
     },
     "output_type": "display_data"
    },
    {
     "data": {
      "image/png": "[encoded data removed]",
      "text/plain": [
       "<Figure size 432x288 with 1 Axes>"
      ]
     },
     "metadata": {
      "needs_background": "light"
     },
     "output_type": "display_data"
    },
    {
     "name": "stdout",
     "output_type": "stream",
     "text": [
      "Epoch 1/30\n",
      "2455/2455 [==============================] - 6s 2ms/step - loss: 0.8785 - mse: 0.8785 - mae: 0.6461 - mape: 110384.1094 - val_loss: 0.8412 - val_mse: 0.8412 - val_mae: 0.6308 - val_mape: 75923.6797\n",
      "INFO:tensorflow:Assets written to: ../outputs/models/my_simple_nn_1/assets\n"
     ]
    },
    {
     "name": "stderr",
     "output_type": "stream",
     "text": [
      "INFO:tensorflow:Assets written to: ../outputs/models/my_simple_nn_1/assets\n"
     ]
    },
    {
     "name": "stdout",
     "output_type": "stream",
     "text": [
      "Epoch 2/30\n",
      "2455/2455 [==============================] - 4s 2ms/step - loss: 0.8365 - mse: 0.8365 - mae: 0.6265 - mape: 93951.2891 - val_loss: 0.8398 - val_mse: 0.8398 - val_mae: 0.6294 - val_mape: 102063.9219\n",
      "INFO:tensorflow:Assets written to: ../outputs/models/my_simple_nn_1/assets\n"
     ]
    },
    {
     "name": "stderr",
     "output_type": "stream",
     "text": [
      "INFO:tensorflow:Assets written to: ../outputs/models/my_simple_nn_1/assets\n"
     ]
    },
    {
     "name": "stdout",
     "output_type": "stream",
     "text": [
      "Epoch 3/30\n",
      "2455/2455 [==============================] - 4s 2ms/step - loss: 0.8335 - mse: 0.8335 - mae: 0.6254 - mape: 108245.4531 - val_loss: 0.8386 - val_mse: 0.8386 - val_mae: 0.6292 - val_mape: 99471.5469\n",
      "INFO:tensorflow:Assets written to: ../outputs/models/my_simple_nn_1/assets\n"
     ]
    },
    {
     "name": "stderr",
     "output_type": "stream",
     "text": [
      "INFO:tensorflow:Assets written to: ../outputs/models/my_simple_nn_1/assets\n"
     ]
    },
    {
     "name": "stdout",
     "output_type": "stream",
     "text": [
      "Epoch 4/30\n",
      "2455/2455 [==============================] - 5s 2ms/step - loss: 0.8321 - mse: 0.8321 - mae: 0.6249 - mape: 101512.6328 - val_loss: 0.8384 - val_mse: 0.8384 - val_mae: 0.6290 - val_mape: 109617.8516\n",
      "INFO:tensorflow:Assets written to: ../outputs/models/my_simple_nn_1/assets\n"
     ]
    },
    {
     "name": "stderr",
     "output_type": "stream",
     "text": [
      "INFO:tensorflow:Assets written to: ../outputs/models/my_simple_nn_1/assets\n"
     ]
    },
    {
     "name": "stdout",
     "output_type": "stream",
     "text": [
      "Epoch 5/30\n",
      "2455/2455 [==============================] - 4s 2ms/step - loss: 0.8312 - mse: 0.8312 - mae: 0.6246 - mape: 114860.2656 - val_loss: 0.8377 - val_mse: 0.8377 - val_mae: 0.6286 - val_mape: 115113.9062\n",
      "INFO:tensorflow:Assets written to: ../outputs/models/my_simple_nn_1/assets\n"
     ]
    },
    {
     "name": "stderr",
     "output_type": "stream",
     "text": [
      "INFO:tensorflow:Assets written to: ../outputs/models/my_simple_nn_1/assets\n"
     ]
    },
    {
     "name": "stdout",
     "output_type": "stream",
     "text": [
      "Epoch 6/30\n",
      "2455/2455 [==============================] - 4s 2ms/step - loss: 0.8305 - mse: 0.8305 - mae: 0.6243 - mape: 104111.5547 - val_loss: 0.8381 - val_mse: 0.8381 - val_mae: 0.6292 - val_mape: 95203.1562\n",
      "Epoch 7/30\n",
      "2455/2455 [==============================] - 4s 2ms/step - loss: 0.8299 - mse: 0.8299 - mae: 0.6241 - mape: 103990.7734 - val_loss: 0.8376 - val_mse: 0.8376 - val_mae: 0.6290 - val_mape: 89805.1406\n",
      "INFO:tensorflow:Assets written to: ../outputs/models/my_simple_nn_1/assets\n"
     ]
    },
    {
     "name": "stderr",
     "output_type": "stream",
     "text": [
      "INFO:tensorflow:Assets written to: ../outputs/models/my_simple_nn_1/assets\n"
     ]
    },
    {
     "name": "stdout",
     "output_type": "stream",
     "text": [
      "Epoch 8/30\n",
      "2455/2455 [==============================] - 4s 2ms/step - loss: 0.8292 - mse: 0.8292 - mae: 0.6239 - mape: 109214.8984 - val_loss: 0.8382 - val_mse: 0.8382 - val_mae: 0.6293 - val_mape: 106035.1250\n",
      "Epoch 9/30\n",
      "2455/2455 [==============================] - 4s 2ms/step - loss: 0.8290 - mse: 0.8290 - mae: 0.6238 - mape: 99715.5312 - val_loss: 0.8384 - val_mse: 0.8384 - val_mae: 0.6295 - val_mape: 118228.4062\n",
      "Epoch 10/30\n",
      "2455/2455 [==============================] - 4s 2ms/step - loss: 0.8287 - mse: 0.8287 - mae: 0.6237 - mape: 97750.4375 - val_loss: 0.8385 - val_mse: 0.8385 - val_mae: 0.6295 - val_mape: 82071.3984\n",
      "Epoch 11/30\n",
      "2455/2455 [==============================] - 4s 2ms/step - loss: 0.8285 - mse: 0.8285 - mae: 0.6236 - mape: 102550.1641 - val_loss: 0.8371 - val_mse: 0.8371 - val_mae: 0.6288 - val_mape: 100383.1484\n",
      "INFO:tensorflow:Assets written to: ../outputs/models/my_simple_nn_1/assets\n"
     ]
    },
    {
     "name": "stderr",
     "output_type": "stream",
     "text": [
      "INFO:tensorflow:Assets written to: ../outputs/models/my_simple_nn_1/assets\n"
     ]
    },
    {
     "name": "stdout",
     "output_type": "stream",
     "text": [
      "Epoch 12/30\n",
      "2455/2455 [==============================] - 4s 2ms/step - loss: 0.8281 - mse: 0.8281 - mae: 0.6235 - mape: 104174.7812 - val_loss: 0.8371 - val_mse: 0.8371 - val_mae: 0.6289 - val_mape: 101014.4766\n",
      "Epoch 13/30\n",
      "2455/2455 [==============================] - 4s 2ms/step - loss: 0.8280 - mse: 0.8280 - mae: 0.6234 - mape: 86837.6562 - val_loss: 0.8373 - val_mse: 0.8373 - val_mae: 0.6288 - val_mape: 75866.2422\n",
      "Epoch 14/30\n",
      "2455/2455 [==============================] - 4s 2ms/step - loss: 0.8276 - mse: 0.8276 - mae: 0.6233 - mape: 92989.7969 - val_loss: 0.8356 - val_mse: 0.8356 - val_mae: 0.6281 - val_mape: 78148.3828\n",
      "INFO:tensorflow:Assets written to: ../outputs/models/my_simple_nn_1/assets\n"
     ]
    },
    {
     "name": "stderr",
     "output_type": "stream",
     "text": [
      "INFO:tensorflow:Assets written to: ../outputs/models/my_simple_nn_1/assets\n"
     ]
    },
    {
     "name": "stdout",
     "output_type": "stream",
     "text": [
      "Epoch 15/30\n",
      "2455/2455 [==============================] - 4s 2ms/step - loss: 0.8277 - mse: 0.8277 - mae: 0.6234 - mape: 99847.0703 - val_loss: 0.8366 - val_mse: 0.8366 - val_mae: 0.6288 - val_mape: 91435.2734\n",
      "Epoch 16/30\n",
      "2455/2455 [==============================] - 4s 2ms/step - loss: 0.8272 - mse: 0.8272 - mae: 0.6232 - mape: 98197.2812 - val_loss: 0.8365 - val_mse: 0.8365 - val_mae: 0.6285 - val_mape: 99859.9375\n",
      "Epoch 17/30\n",
      "2455/2455 [==============================] - 4s 2ms/step - loss: 0.8275 - mse: 0.8275 - mae: 0.6232 - mape: 101046.3281 - val_loss: 0.8367 - val_mse: 0.8367 - val_mae: 0.6286 - val_mape: 90227.5234\n",
      "Epoch 18/30\n",
      "2455/2455 [==============================] - 5s 2ms/step - loss: 0.8269 - mse: 0.8269 - mae: 0.6231 - mape: 110317.7578 - val_loss: 0.8364 - val_mse: 0.8364 - val_mae: 0.6282 - val_mape: 97922.7578\n",
      "Epoch 19/30\n",
      "2455/2455 [==============================] - 5s 2ms/step - loss: 0.8269 - mse: 0.8269 - mae: 0.6232 - mape: 101045.1250 - val_loss: 0.8362 - val_mse: 0.8362 - val_mae: 0.6287 - val_mape: 103148.8672\n",
      "Epoch 20/30\n",
      "2455/2455 [==============================] - 4s 2ms/step - loss: 0.8265 - mse: 0.8265 - mae: 0.6230 - mape: 104795.2266 - val_loss: 0.8362 - val_mse: 0.8362 - val_mae: 0.6283 - val_mape: 121796.7969\n",
      "Epoch 21/30\n",
      "2455/2455 [==============================] - 4s 2ms/step - loss: 0.8266 - mse: 0.8266 - mae: 0.6230 - mape: 109406.7031 - val_loss: 0.8363 - val_mse: 0.8363 - val_mae: 0.6285 - val_mape: 107324.0391\n",
      "Epoch 22/30\n",
      "2455/2455 [==============================] - 4s 2ms/step - loss: 0.8264 - mse: 0.8264 - mae: 0.6230 - mape: 107100.8047 - val_loss: 0.8367 - val_mse: 0.8367 - val_mae: 0.6288 - val_mape: 109028.0078\n",
      "Epoch 23/30\n",
      "2455/2455 [==============================] - 4s 2ms/step - loss: 0.8263 - mse: 0.8263 - mae: 0.6229 - mape: 95873.4922 - val_loss: 0.8361 - val_mse: 0.8361 - val_mae: 0.6284 - val_mape: 76616.2031\n",
      "Epoch 24/30\n",
      "2455/2455 [==============================] - 4s 2ms/step - loss: 0.8264 - mse: 0.8264 - mae: 0.6229 - mape: 93963.7422 - val_loss: 0.8362 - val_mse: 0.8362 - val_mae: 0.6282 - val_mape: 78041.1094\n",
      "Pearson: (0.1183638686174058, 0.0)\n"
     ]
    },
    {
     "data": {
      "image/png": "[encoded data removed]",
      "text/plain": [
       "<Figure size 432x288 with 1 Axes>"
      ]
     },
     "metadata": {
      "needs_background": "light"
     },
     "output_type": "display_data"
    },
    {
     "data": {
      "image/png": "[encoded data removed]",
      "text/plain": [
       "<Figure size 432x288 with 1 Axes>"
      ]
     },
     "metadata": {
      "needs_background": "light"
     },
     "output_type": "display_data"
    },
    {
     "name": "stdout",
     "output_type": "stream",
     "text": [
      "Epoch 1/30\n",
      "2455/2455 [==============================] - 6s 2ms/step - loss: 0.8813 - mse: 0.8813 - mae: 0.6471 - mape: 134711.3125 - val_loss: 0.8340 - val_mse: 0.8340 - val_mae: 0.6281 - val_mape: 100408.0312\n",
      "INFO:tensorflow:Assets written to: ../outputs/models/my_simple_nn_2/assets\n"
     ]
    },
    {
     "name": "stderr",
     "output_type": "stream",
     "text": [
      "INFO:tensorflow:Assets written to: ../outputs/models/my_simple_nn_2/assets\n"
     ]
    },
    {
     "name": "stdout",
     "output_type": "stream",
     "text": [
      "Epoch 2/30\n",
      "2455/2455 [==============================] - 4s 2ms/step - loss: 0.8352 - mse: 0.8352 - mae: 0.6260 - mape: 104157.7969 - val_loss: 0.8331 - val_mse: 0.8331 - val_mae: 0.6281 - val_mape: 122417.0859\n",
      "INFO:tensorflow:Assets written to: ../outputs/models/my_simple_nn_2/assets\n"
     ]
    },
    {
     "name": "stderr",
     "output_type": "stream",
     "text": [
      "INFO:tensorflow:Assets written to: ../outputs/models/my_simple_nn_2/assets\n"
     ]
    },
    {
     "name": "stdout",
     "output_type": "stream",
     "text": [
      "Epoch 3/30\n",
      "2455/2455 [==============================] - 5s 2ms/step - loss: 0.8333 - mse: 0.8333 - mae: 0.6253 - mape: 104462.2344 - val_loss: 0.8323 - val_mse: 0.8323 - val_mae: 0.6282 - val_mape: 116415.9453\n",
      "INFO:tensorflow:Assets written to: ../outputs/models/my_simple_nn_2/assets\n"
     ]
    },
    {
     "name": "stderr",
     "output_type": "stream",
     "text": [
      "INFO:tensorflow:Assets written to: ../outputs/models/my_simple_nn_2/assets\n"
     ]
    },
    {
     "name": "stdout",
     "output_type": "stream",
     "text": [
      "Epoch 4/30\n",
      "2455/2455 [==============================] - 4s 2ms/step - loss: 0.8326 - mse: 0.8326 - mae: 0.6250 - mape: 104016.8359 - val_loss: 0.8323 - val_mse: 0.8323 - val_mae: 0.6277 - val_mape: 123711.7500\n",
      "Epoch 5/30\n",
      "2455/2455 [==============================] - 4s 2ms/step - loss: 0.8319 - mse: 0.8319 - mae: 0.6247 - mape: 111515.9609 - val_loss: 0.8307 - val_mse: 0.8307 - val_mae: 0.6269 - val_mape: 133580.1719\n",
      "INFO:tensorflow:Assets written to: ../outputs/models/my_simple_nn_2/assets\n"
     ]
    },
    {
     "name": "stderr",
     "output_type": "stream",
     "text": [
      "INFO:tensorflow:Assets written to: ../outputs/models/my_simple_nn_2/assets\n"
     ]
    },
    {
     "name": "stdout",
     "output_type": "stream",
     "text": [
      "Epoch 6/30\n",
      "2455/2455 [==============================] - 4s 2ms/step - loss: 0.8313 - mse: 0.8313 - mae: 0.6245 - mape: 105460.8125 - val_loss: 0.8311 - val_mse: 0.8311 - val_mae: 0.6270 - val_mape: 133701.0938\n",
      "Epoch 7/30\n",
      "2455/2455 [==============================] - 4s 2ms/step - loss: 0.8309 - mse: 0.8309 - mae: 0.6244 - mape: 105938.1797 - val_loss: 0.8309 - val_mse: 0.8309 - val_mae: 0.6273 - val_mape: 115662.9453\n",
      "Epoch 8/30\n",
      "2455/2455 [==============================] - 4s 2ms/step - loss: 0.8303 - mse: 0.8303 - mae: 0.6242 - mape: 109201.0859 - val_loss: 0.8304 - val_mse: 0.8304 - val_mae: 0.6271 - val_mape: 120353.8125\n",
      "INFO:tensorflow:Assets written to: ../outputs/models/my_simple_nn_2/assets\n"
     ]
    },
    {
     "name": "stderr",
     "output_type": "stream",
     "text": [
      "INFO:tensorflow:Assets written to: ../outputs/models/my_simple_nn_2/assets\n"
     ]
    },
    {
     "name": "stdout",
     "output_type": "stream",
     "text": [
      "Epoch 9/30\n",
      "2455/2455 [==============================] - 4s 2ms/step - loss: 0.8300 - mse: 0.8300 - mae: 0.6241 - mape: 114720.5078 - val_loss: 0.8306 - val_mse: 0.8306 - val_mae: 0.6271 - val_mape: 121294.6875\n",
      "Epoch 10/30\n",
      "2455/2455 [==============================] - 4s 2ms/step - loss: 0.8295 - mse: 0.8295 - mae: 0.6239 - mape: 115006.4688 - val_loss: 0.8309 - val_mse: 0.8309 - val_mae: 0.6274 - val_mape: 118777.9375\n",
      "Epoch 11/30\n",
      "2455/2455 [==============================] - 4s 2ms/step - loss: 0.8295 - mse: 0.8295 - mae: 0.6240 - mape: 115014.8672 - val_loss: 0.8303 - val_mse: 0.8303 - val_mae: 0.6273 - val_mape: 125612.9219\n",
      "INFO:tensorflow:Assets written to: ../outputs/models/my_simple_nn_2/assets\n"
     ]
    },
    {
     "name": "stderr",
     "output_type": "stream",
     "text": [
      "INFO:tensorflow:Assets written to: ../outputs/models/my_simple_nn_2/assets\n"
     ]
    },
    {
     "name": "stdout",
     "output_type": "stream",
     "text": [
      "Epoch 12/30\n",
      "2455/2455 [==============================] - 4s 2ms/step - loss: 0.8292 - mse: 0.8292 - mae: 0.6238 - mape: 112396.1562 - val_loss: 0.8298 - val_mse: 0.8298 - val_mae: 0.6273 - val_mape: 94387.4844\n",
      "INFO:tensorflow:Assets written to: ../outputs/models/my_simple_nn_2/assets\n"
     ]
    },
    {
     "name": "stderr",
     "output_type": "stream",
     "text": [
      "INFO:tensorflow:Assets written to: ../outputs/models/my_simple_nn_2/assets\n"
     ]
    },
    {
     "name": "stdout",
     "output_type": "stream",
     "text": [
      "Epoch 13/30\n",
      "2455/2455 [==============================] - 4s 2ms/step - loss: 0.8286 - mse: 0.8286 - mae: 0.6236 - mape: 111772.8281 - val_loss: 0.8296 - val_mse: 0.8296 - val_mae: 0.6271 - val_mape: 130193.6562\n",
      "INFO:tensorflow:Assets written to: ../outputs/models/my_simple_nn_2/assets\n"
     ]
    },
    {
     "name": "stderr",
     "output_type": "stream",
     "text": [
      "INFO:tensorflow:Assets written to: ../outputs/models/my_simple_nn_2/assets\n"
     ]
    },
    {
     "name": "stdout",
     "output_type": "stream",
     "text": [
      "Epoch 14/30\n",
      "2455/2455 [==============================] - 4s 2ms/step - loss: 0.8285 - mse: 0.8285 - mae: 0.6237 - mape: 109559.1406 - val_loss: 0.8299 - val_mse: 0.8299 - val_mae: 0.6272 - val_mape: 101719.7656\n",
      "Epoch 15/30\n",
      "2455/2455 [==============================] - 5s 2ms/step - loss: 0.8284 - mse: 0.8284 - mae: 0.6237 - mape: 119902.6953 - val_loss: 0.8293 - val_mse: 0.8293 - val_mae: 0.6264 - val_mape: 125685.8047\n",
      "INFO:tensorflow:Assets written to: ../outputs/models/my_simple_nn_2/assets\n"
     ]
    },
    {
     "name": "stderr",
     "output_type": "stream",
     "text": [
      "INFO:tensorflow:Assets written to: ../outputs/models/my_simple_nn_2/assets\n"
     ]
    },
    {
     "name": "stdout",
     "output_type": "stream",
     "text": [
      "Epoch 16/30\n",
      "2455/2455 [==============================] - 4s 2ms/step - loss: 0.8282 - mse: 0.8282 - mae: 0.6235 - mape: 113090.0000 - val_loss: 0.8302 - val_mse: 0.8302 - val_mae: 0.6271 - val_mape: 95334.0000\n",
      "Epoch 17/30\n",
      "2455/2455 [==============================] - 5s 2ms/step - loss: 0.8280 - mse: 0.8280 - mae: 0.6235 - mape: 110347.4609 - val_loss: 0.8290 - val_mse: 0.8290 - val_mae: 0.6265 - val_mape: 91925.0781\n",
      "INFO:tensorflow:Assets written to: ../outputs/models/my_simple_nn_2/assets\n"
     ]
    },
    {
     "name": "stderr",
     "output_type": "stream",
     "text": [
      "INFO:tensorflow:Assets written to: ../outputs/models/my_simple_nn_2/assets\n"
     ]
    },
    {
     "name": "stdout",
     "output_type": "stream",
     "text": [
      "Epoch 18/30\n",
      "2455/2455 [==============================] - 4s 2ms/step - loss: 0.8276 - mse: 0.8276 - mae: 0.6233 - mape: 109052.0469 - val_loss: 0.8289 - val_mse: 0.8289 - val_mae: 0.6266 - val_mape: 105794.0234\n",
      "INFO:tensorflow:Assets written to: ../outputs/models/my_simple_nn_2/assets\n"
     ]
    },
    {
     "name": "stderr",
     "output_type": "stream",
     "text": [
      "INFO:tensorflow:Assets written to: ../outputs/models/my_simple_nn_2/assets\n"
     ]
    },
    {
     "name": "stdout",
     "output_type": "stream",
     "text": [
      "Epoch 19/30\n",
      "2455/2455 [==============================] - 4s 2ms/step - loss: 0.8275 - mse: 0.8275 - mae: 0.6234 - mape: 111277.3125 - val_loss: 0.8284 - val_mse: 0.8284 - val_mae: 0.6263 - val_mape: 126622.4531\n",
      "INFO:tensorflow:Assets written to: ../outputs/models/my_simple_nn_2/assets\n"
     ]
    },
    {
     "name": "stderr",
     "output_type": "stream",
     "text": [
      "INFO:tensorflow:Assets written to: ../outputs/models/my_simple_nn_2/assets\n"
     ]
    },
    {
     "name": "stdout",
     "output_type": "stream",
     "text": [
      "Epoch 20/30\n",
      "2455/2455 [==============================] - 4s 2ms/step - loss: 0.8274 - mse: 0.8274 - mae: 0.6233 - mape: 120013.8125 - val_loss: 0.8292 - val_mse: 0.8292 - val_mae: 0.6263 - val_mape: 112041.6328\n",
      "Epoch 21/30\n",
      "2455/2455 [==============================] - 4s 2ms/step - loss: 0.8273 - mse: 0.8273 - mae: 0.6234 - mape: 116648.0469 - val_loss: 0.8289 - val_mse: 0.8289 - val_mae: 0.6266 - val_mape: 88243.8438\n",
      "Epoch 22/30\n",
      "2455/2455 [==============================] - 4s 2ms/step - loss: 0.8271 - mse: 0.8271 - mae: 0.6233 - mape: 123337.9453 - val_loss: 0.8286 - val_mse: 0.8286 - val_mae: 0.6265 - val_mape: 103681.0000\n",
      "Epoch 23/30\n",
      "2455/2455 [==============================] - 4s 2ms/step - loss: 0.8268 - mse: 0.8268 - mae: 0.6232 - mape: 116449.3750 - val_loss: 0.8293 - val_mse: 0.8293 - val_mae: 0.6269 - val_mape: 106977.7969\n",
      "Epoch 24/30\n",
      "2455/2455 [==============================] - 4s 2ms/step - loss: 0.8270 - mse: 0.8270 - mae: 0.6233 - mape: 110100.8594 - val_loss: 0.8286 - val_mse: 0.8286 - val_mae: 0.6265 - val_mape: 108006.2812\n",
      "Epoch 25/30\n",
      "2455/2455 [==============================] - 4s 2ms/step - loss: 0.8268 - mse: 0.8268 - mae: 0.6232 - mape: 119023.9375 - val_loss: 0.8289 - val_mse: 0.8289 - val_mae: 0.6269 - val_mape: 109157.4922\n",
      "Epoch 26/30\n",
      "2455/2455 [==============================] - 4s 2ms/step - loss: 0.8267 - mse: 0.8267 - mae: 0.6232 - mape: 126385.4609 - val_loss: 0.8295 - val_mse: 0.8295 - val_mae: 0.6267 - val_mape: 114666.8281\n",
      "Epoch 27/30\n",
      "2455/2455 [==============================] - 4s 2ms/step - loss: 0.8266 - mse: 0.8266 - mae: 0.6232 - mape: 126691.1953 - val_loss: 0.8285 - val_mse: 0.8285 - val_mae: 0.6266 - val_mape: 131790.7812\n",
      "Epoch 28/30\n",
      "2455/2455 [==============================] - 4s 2ms/step - loss: 0.8266 - mse: 0.8266 - mae: 0.6231 - mape: 121458.6328 - val_loss: 0.8291 - val_mse: 0.8291 - val_mae: 0.6266 - val_mape: 107373.5703\n",
      "Epoch 29/30\n",
      "2455/2455 [==============================] - 4s 2ms/step - loss: 0.8266 - mse: 0.8266 - mae: 0.6231 - mape: 120999.2188 - val_loss: 0.8288 - val_mse: 0.8288 - val_mae: 0.6267 - val_mape: 102059.3672\n",
      "Pearson: (0.13549117507313385, 0.0)\n"
     ]
    },
    {
     "data": {
      "image/png": "[encoded data removed]",
      "text/plain": [
       "<Figure size 432x288 with 1 Axes>"
      ]
     },
     "metadata": {
      "needs_background": "light"
     },
     "output_type": "display_data"
    },
    {
     "data": {
      "image/png": "[encoded data removed]",
      "text/plain": [
       "<Figure size 432x288 with 1 Axes>"
      ]
     },
     "metadata": {
      "needs_background": "light"
     },
     "output_type": "display_data"
    },
    {
     "name": "stdout",
     "output_type": "stream",
     "text": [
      "Epoch 1/30\n",
      "2455/2455 [==============================] - 6s 2ms/step - loss: 0.8788 - mse: 0.8788 - mae: 0.6457 - mape: 132400.1719 - val_loss: 0.8387 - val_mse: 0.8387 - val_mae: 0.6291 - val_mape: 91609.8672\n",
      "INFO:tensorflow:Assets written to: ../outputs/models/my_simple_nn_3/assets\n"
     ]
    },
    {
     "name": "stderr",
     "output_type": "stream",
     "text": [
      "INFO:tensorflow:Assets written to: ../outputs/models/my_simple_nn_3/assets\n"
     ]
    },
    {
     "name": "stdout",
     "output_type": "stream",
     "text": [
      "Epoch 2/30\n",
      "2455/2455 [==============================] - 5s 2ms/step - loss: 0.8362 - mse: 0.8362 - mae: 0.6266 - mape: 97765.9141 - val_loss: 0.8362 - val_mse: 0.8362 - val_mae: 0.6277 - val_mape: 106567.3828\n",
      "INFO:tensorflow:Assets written to: ../outputs/models/my_simple_nn_3/assets\n"
     ]
    },
    {
     "name": "stderr",
     "output_type": "stream",
     "text": [
      "INFO:tensorflow:Assets written to: ../outputs/models/my_simple_nn_3/assets\n"
     ]
    },
    {
     "name": "stdout",
     "output_type": "stream",
     "text": [
      "Epoch 3/30\n",
      "2455/2455 [==============================] - 5s 2ms/step - loss: 0.8335 - mse: 0.8335 - mae: 0.6255 - mape: 110842.6406 - val_loss: 0.8356 - val_mse: 0.8356 - val_mae: 0.6274 - val_mape: 114448.2188\n",
      "INFO:tensorflow:Assets written to: ../outputs/models/my_simple_nn_3/assets\n"
     ]
    },
    {
     "name": "stderr",
     "output_type": "stream",
     "text": [
      "INFO:tensorflow:Assets written to: ../outputs/models/my_simple_nn_3/assets\n"
     ]
    },
    {
     "name": "stdout",
     "output_type": "stream",
     "text": [
      "Epoch 4/30\n",
      "2455/2455 [==============================] - 5s 2ms/step - loss: 0.8321 - mse: 0.8321 - mae: 0.6251 - mape: 112949.6797 - val_loss: 0.8358 - val_mse: 0.8358 - val_mae: 0.6278 - val_mape: 99623.6562\n",
      "Epoch 5/30\n",
      "2455/2455 [==============================] - 5s 2ms/step - loss: 0.8313 - mse: 0.8313 - mae: 0.6247 - mape: 118098.0156 - val_loss: 0.8344 - val_mse: 0.8344 - val_mae: 0.6274 - val_mape: 111043.3906\n",
      "INFO:tensorflow:Assets written to: ../outputs/models/my_simple_nn_3/assets\n"
     ]
    },
    {
     "name": "stderr",
     "output_type": "stream",
     "text": [
      "INFO:tensorflow:Assets written to: ../outputs/models/my_simple_nn_3/assets\n"
     ]
    },
    {
     "name": "stdout",
     "output_type": "stream",
     "text": [
      "Epoch 6/30\n",
      "2455/2455 [==============================] - 5s 2ms/step - loss: 0.8305 - mse: 0.8305 - mae: 0.6244 - mape: 113701.4141 - val_loss: 0.8340 - val_mse: 0.8340 - val_mae: 0.6270 - val_mape: 125746.9062\n",
      "INFO:tensorflow:Assets written to: ../outputs/models/my_simple_nn_3/assets\n"
     ]
    },
    {
     "name": "stderr",
     "output_type": "stream",
     "text": [
      "INFO:tensorflow:Assets written to: ../outputs/models/my_simple_nn_3/assets\n"
     ]
    },
    {
     "name": "stdout",
     "output_type": "stream",
     "text": [
      "Epoch 7/30\n",
      "2455/2455 [==============================] - 4s 2ms/step - loss: 0.8300 - mse: 0.8300 - mae: 0.6242 - mape: 113438.8906 - val_loss: 0.8341 - val_mse: 0.8341 - val_mae: 0.6274 - val_mape: 116423.7812\n",
      "Epoch 8/30\n",
      "2455/2455 [==============================] - 4s 2ms/step - loss: 0.8297 - mse: 0.8297 - mae: 0.6241 - mape: 114390.6250 - val_loss: 0.8335 - val_mse: 0.8335 - val_mae: 0.6269 - val_mape: 101787.2188\n",
      "INFO:tensorflow:Assets written to: ../outputs/models/my_simple_nn_3/assets\n"
     ]
    },
    {
     "name": "stderr",
     "output_type": "stream",
     "text": [
      "INFO:tensorflow:Assets written to: ../outputs/models/my_simple_nn_3/assets\n"
     ]
    },
    {
     "name": "stdout",
     "output_type": "stream",
     "text": [
      "Epoch 9/30\n",
      "2455/2455 [==============================] - 4s 2ms/step - loss: 0.8294 - mse: 0.8294 - mae: 0.6240 - mape: 114525.7734 - val_loss: 0.8338 - val_mse: 0.8338 - val_mae: 0.6269 - val_mape: 105001.9531\n",
      "Epoch 10/30\n",
      "2455/2455 [==============================] - 4s 2ms/step - loss: 0.8288 - mse: 0.8288 - mae: 0.6239 - mape: 117770.3984 - val_loss: 0.8328 - val_mse: 0.8328 - val_mae: 0.6264 - val_mape: 107872.2734\n",
      "INFO:tensorflow:Assets written to: ../outputs/models/my_simple_nn_3/assets\n"
     ]
    },
    {
     "name": "stderr",
     "output_type": "stream",
     "text": [
      "INFO:tensorflow:Assets written to: ../outputs/models/my_simple_nn_3/assets\n"
     ]
    },
    {
     "name": "stdout",
     "output_type": "stream",
     "text": [
      "Epoch 11/30\n",
      "2455/2455 [==============================] - 4s 2ms/step - loss: 0.8290 - mse: 0.8290 - mae: 0.6239 - mape: 118526.8906 - val_loss: 0.8330 - val_mse: 0.8330 - val_mae: 0.6269 - val_mape: 96520.0312\n",
      "Epoch 12/30\n",
      "2455/2455 [==============================] - 4s 2ms/step - loss: 0.8284 - mse: 0.8284 - mae: 0.6237 - mape: 116294.0469 - val_loss: 0.8328 - val_mse: 0.8328 - val_mae: 0.6267 - val_mape: 109060.5859\n",
      "Epoch 13/30\n",
      "2455/2455 [==============================] - 4s 2ms/step - loss: 0.8284 - mse: 0.8284 - mae: 0.6238 - mape: 116619.0234 - val_loss: 0.8328 - val_mse: 0.8328 - val_mae: 0.6265 - val_mape: 94606.8516\n",
      "Epoch 14/30\n",
      "2455/2455 [==============================] - 4s 2ms/step - loss: 0.8281 - mse: 0.8281 - mae: 0.6236 - mape: 115377.9688 - val_loss: 0.8324 - val_mse: 0.8324 - val_mae: 0.6266 - val_mape: 92939.7656\n",
      "INFO:tensorflow:Assets written to: ../outputs/models/my_simple_nn_3/assets\n"
     ]
    },
    {
     "name": "stderr",
     "output_type": "stream",
     "text": [
      "INFO:tensorflow:Assets written to: ../outputs/models/my_simple_nn_3/assets\n"
     ]
    },
    {
     "name": "stdout",
     "output_type": "stream",
     "text": [
      "Epoch 15/30\n",
      "2455/2455 [==============================] - 5s 2ms/step - loss: 0.8279 - mse: 0.8279 - mae: 0.6236 - mape: 119941.7734 - val_loss: 0.8322 - val_mse: 0.8322 - val_mae: 0.6259 - val_mape: 98004.5469\n",
      "INFO:tensorflow:Assets written to: ../outputs/models/my_simple_nn_3/assets\n"
     ]
    },
    {
     "name": "stderr",
     "output_type": "stream",
     "text": [
      "INFO:tensorflow:Assets written to: ../outputs/models/my_simple_nn_3/assets\n"
     ]
    },
    {
     "name": "stdout",
     "output_type": "stream",
     "text": [
      "Epoch 16/30\n",
      "2455/2455 [==============================] - 5s 2ms/step - loss: 0.8279 - mse: 0.8279 - mae: 0.6235 - mape: 118291.0859 - val_loss: 0.8328 - val_mse: 0.8328 - val_mae: 0.6266 - val_mape: 84146.9219\n",
      "Epoch 17/30\n",
      "2455/2455 [==============================] - 5s 2ms/step - loss: 0.8274 - mse: 0.8274 - mae: 0.6234 - mape: 112942.4531 - val_loss: 0.8327 - val_mse: 0.8327 - val_mae: 0.6266 - val_mape: 92893.4922\n",
      "Epoch 18/30\n",
      "2455/2455 [==============================] - 5s 2ms/step - loss: 0.8273 - mse: 0.8273 - mae: 0.6233 - mape: 107019.6562 - val_loss: 0.8333 - val_mse: 0.8333 - val_mae: 0.6270 - val_mape: 64220.7422\n",
      "Epoch 19/30\n",
      "2455/2455 [==============================] - 5s 2ms/step - loss: 0.8270 - mse: 0.8270 - mae: 0.6232 - mape: 116106.5859 - val_loss: 0.8324 - val_mse: 0.8324 - val_mae: 0.6265 - val_mape: 94683.0156\n",
      "Epoch 20/30\n",
      "2455/2455 [==============================] - 5s 2ms/step - loss: 0.8272 - mse: 0.8272 - mae: 0.6234 - mape: 109509.6250 - val_loss: 0.8331 - val_mse: 0.8331 - val_mae: 0.6267 - val_mape: 70291.5781\n",
      "Epoch 21/30\n",
      "2455/2455 [==============================] - 5s 2ms/step - loss: 0.8267 - mse: 0.8267 - mae: 0.6231 - mape: 107224.9062 - val_loss: 0.8328 - val_mse: 0.8328 - val_mae: 0.6266 - val_mape: 97626.0156\n",
      "Epoch 22/30\n",
      "2455/2455 [==============================] - 5s 2ms/step - loss: 0.8268 - mse: 0.8268 - mae: 0.6232 - mape: 118608.8516 - val_loss: 0.8323 - val_mse: 0.8323 - val_mae: 0.6266 - val_mape: 110049.2891\n",
      "Epoch 23/30\n",
      "2455/2455 [==============================] - 4s 2ms/step - loss: 0.8267 - mse: 0.8267 - mae: 0.6232 - mape: 115149.7812 - val_loss: 0.8328 - val_mse: 0.8328 - val_mae: 0.6268 - val_mape: 84079.9688\n",
      "Epoch 24/30\n",
      "2455/2455 [==============================] - 5s 2ms/step - loss: 0.8264 - mse: 0.8264 - mae: 0.6231 - mape: 116536.0312 - val_loss: 0.8320 - val_mse: 0.8320 - val_mae: 0.6265 - val_mape: 100648.4219\n",
      "INFO:tensorflow:Assets written to: ../outputs/models/my_simple_nn_3/assets\n"
     ]
    },
    {
     "name": "stderr",
     "output_type": "stream",
     "text": [
      "INFO:tensorflow:Assets written to: ../outputs/models/my_simple_nn_3/assets\n"
     ]
    },
    {
     "name": "stdout",
     "output_type": "stream",
     "text": [
      "Epoch 25/30\n",
      "2455/2455 [==============================] - 4s 2ms/step - loss: 0.8263 - mse: 0.8263 - mae: 0.6231 - mape: 107803.0312 - val_loss: 0.8322 - val_mse: 0.8322 - val_mae: 0.6265 - val_mape: 101065.3984\n",
      "Epoch 26/30\n",
      "2455/2455 [==============================] - 4s 2ms/step - loss: 0.8263 - mse: 0.8263 - mae: 0.6230 - mape: 121803.4219 - val_loss: 0.8327 - val_mse: 0.8327 - val_mae: 0.6269 - val_mape: 81280.0469\n",
      "Epoch 27/30\n",
      "2455/2455 [==============================] - 4s 2ms/step - loss: 0.8262 - mse: 0.8262 - mae: 0.6231 - mape: 122014.4375 - val_loss: 0.8324 - val_mse: 0.8324 - val_mae: 0.6268 - val_mape: 66746.8906\n",
      "Epoch 28/30\n",
      "2455/2455 [==============================] - 4s 2ms/step - loss: 0.8260 - mse: 0.8260 - mae: 0.6230 - mape: 110799.7188 - val_loss: 0.8322 - val_mse: 0.8322 - val_mae: 0.6267 - val_mape: 83513.8672\n",
      "Epoch 29/30\n",
      "2455/2455 [==============================] - 4s 2ms/step - loss: 0.8261 - mse: 0.8261 - mae: 0.6230 - mape: 106670.8906 - val_loss: 0.8319 - val_mse: 0.8319 - val_mae: 0.6264 - val_mape: 105389.8516\n",
      "INFO:tensorflow:Assets written to: ../outputs/models/my_simple_nn_3/assets\n"
     ]
    },
    {
     "name": "stderr",
     "output_type": "stream",
     "text": [
      "INFO:tensorflow:Assets written to: ../outputs/models/my_simple_nn_3/assets\n"
     ]
    },
    {
     "name": "stdout",
     "output_type": "stream",
     "text": [
      "Epoch 30/30\n",
      "2455/2455 [==============================] - 4s 2ms/step - loss: 0.8257 - mse: 0.8257 - mae: 0.6229 - mape: 110360.9688 - val_loss: 0.8324 - val_mse: 0.8324 - val_mae: 0.6265 - val_mape: 88701.8984\n",
      "Pearson: (0.1337129607114879, 0.0)\n"
     ]
    },
    {
     "data": {
      "image/png": "[encoded data removed]",
      "text/plain": [
       "<Figure size 432x288 with 1 Axes>"
      ]
     },
     "metadata": {
      "needs_background": "light"
     },
     "output_type": "display_data"
    },
    {
     "data": {
      "image/png": "[encoded data removed]",
      "text/plain": [
       "<Figure size 432x288 with 1 Axes>"
      ]
     },
     "metadata": {
      "needs_background": "light"
     },
     "output_type": "display_data"
    },
    {
     "name": "stdout",
     "output_type": "stream",
     "text": [
      "Epoch 1/30\n",
      "2455/2455 [==============================] - 6s 2ms/step - loss: 0.8711 - mse: 0.8711 - mae: 0.6430 - mape: 126555.2031 - val_loss: 0.8369 - val_mse: 0.8369 - val_mae: 0.6286 - val_mape: 93140.7344\n",
      "INFO:tensorflow:Assets written to: ../outputs/models/my_simple_nn_4/assets\n"
     ]
    },
    {
     "name": "stderr",
     "output_type": "stream",
     "text": [
      "INFO:tensorflow:Assets written to: ../outputs/models/my_simple_nn_4/assets\n"
     ]
    },
    {
     "name": "stdout",
     "output_type": "stream",
     "text": [
      "Epoch 2/30\n",
      "2455/2455 [==============================] - 4s 2ms/step - loss: 0.8356 - mse: 0.8356 - mae: 0.6262 - mape: 94171.0703 - val_loss: 0.8355 - val_mse: 0.8355 - val_mae: 0.6276 - val_mape: 84452.9844\n",
      "INFO:tensorflow:Assets written to: ../outputs/models/my_simple_nn_4/assets\n"
     ]
    },
    {
     "name": "stderr",
     "output_type": "stream",
     "text": [
      "INFO:tensorflow:Assets written to: ../outputs/models/my_simple_nn_4/assets\n"
     ]
    },
    {
     "name": "stdout",
     "output_type": "stream",
     "text": [
      "Epoch 3/30\n",
      "2455/2455 [==============================] - 4s 2ms/step - loss: 0.8331 - mse: 0.8331 - mae: 0.6253 - mape: 110760.5781 - val_loss: 0.8352 - val_mse: 0.8352 - val_mae: 0.6278 - val_mape: 108820.5781\n",
      "INFO:tensorflow:Assets written to: ../outputs/models/my_simple_nn_4/assets\n"
     ]
    },
    {
     "name": "stderr",
     "output_type": "stream",
     "text": [
      "INFO:tensorflow:Assets written to: ../outputs/models/my_simple_nn_4/assets\n"
     ]
    },
    {
     "name": "stdout",
     "output_type": "stream",
     "text": [
      "Epoch 4/30\n",
      "2455/2455 [==============================] - 5s 2ms/step - loss: 0.8319 - mse: 0.8319 - mae: 0.6248 - mape: 111277.8359 - val_loss: 0.8347 - val_mse: 0.8347 - val_mae: 0.6274 - val_mape: 98442.2578\n",
      "INFO:tensorflow:Assets written to: ../outputs/models/my_simple_nn_4/assets\n"
     ]
    },
    {
     "name": "stderr",
     "output_type": "stream",
     "text": [
      "INFO:tensorflow:Assets written to: ../outputs/models/my_simple_nn_4/assets\n"
     ]
    },
    {
     "name": "stdout",
     "output_type": "stream",
     "text": [
      "Epoch 5/30\n",
      "2455/2455 [==============================] - 4s 2ms/step - loss: 0.8312 - mse: 0.8312 - mae: 0.6246 - mape: 110404.6562 - val_loss: 0.8337 - val_mse: 0.8337 - val_mae: 0.6269 - val_mape: 96124.9844\n",
      "INFO:tensorflow:Assets written to: ../outputs/models/my_simple_nn_4/assets\n"
     ]
    },
    {
     "name": "stderr",
     "output_type": "stream",
     "text": [
      "INFO:tensorflow:Assets written to: ../outputs/models/my_simple_nn_4/assets\n"
     ]
    },
    {
     "name": "stdout",
     "output_type": "stream",
     "text": [
      "Epoch 6/30\n",
      "2455/2455 [==============================] - 4s 2ms/step - loss: 0.8303 - mse: 0.8303 - mae: 0.6243 - mape: 108870.8516 - val_loss: 0.8347 - val_mse: 0.8347 - val_mae: 0.6271 - val_mape: 127787.4766\n",
      "Epoch 7/30\n",
      "2455/2455 [==============================] - 4s 2ms/step - loss: 0.8299 - mse: 0.8299 - mae: 0.6241 - mape: 112505.5625 - val_loss: 0.8337 - val_mse: 0.8337 - val_mae: 0.6268 - val_mape: 126579.9375\n",
      "INFO:tensorflow:Assets written to: ../outputs/models/my_simple_nn_4/assets\n"
     ]
    },
    {
     "name": "stderr",
     "output_type": "stream",
     "text": [
      "INFO:tensorflow:Assets written to: ../outputs/models/my_simple_nn_4/assets\n"
     ]
    },
    {
     "name": "stdout",
     "output_type": "stream",
     "text": [
      "Epoch 8/30\n",
      "2455/2455 [==============================] - 4s 2ms/step - loss: 0.8293 - mse: 0.8293 - mae: 0.6240 - mape: 109033.9766 - val_loss: 0.8332 - val_mse: 0.8332 - val_mae: 0.6266 - val_mape: 113266.8438\n",
      "INFO:tensorflow:Assets written to: ../outputs/models/my_simple_nn_4/assets\n"
     ]
    },
    {
     "name": "stderr",
     "output_type": "stream",
     "text": [
      "INFO:tensorflow:Assets written to: ../outputs/models/my_simple_nn_4/assets\n"
     ]
    },
    {
     "name": "stdout",
     "output_type": "stream",
     "text": [
      "Epoch 9/30\n",
      "2455/2455 [==============================] - 4s 2ms/step - loss: 0.8291 - mse: 0.8291 - mae: 0.6239 - mape: 110327.3516 - val_loss: 0.8332 - val_mse: 0.8332 - val_mae: 0.6262 - val_mape: 123132.6797\n",
      "INFO:tensorflow:Assets written to: ../outputs/models/my_simple_nn_4/assets\n"
     ]
    },
    {
     "name": "stderr",
     "output_type": "stream",
     "text": [
      "INFO:tensorflow:Assets written to: ../outputs/models/my_simple_nn_4/assets\n"
     ]
    },
    {
     "name": "stdout",
     "output_type": "stream",
     "text": [
      "Epoch 10/30\n",
      "2455/2455 [==============================] - 4s 2ms/step - loss: 0.8289 - mse: 0.8289 - mae: 0.6238 - mape: 111148.9531 - val_loss: 0.8327 - val_mse: 0.8327 - val_mae: 0.6259 - val_mape: 137486.8906\n",
      "INFO:tensorflow:Assets written to: ../outputs/models/my_simple_nn_4/assets\n"
     ]
    },
    {
     "name": "stderr",
     "output_type": "stream",
     "text": [
      "INFO:tensorflow:Assets written to: ../outputs/models/my_simple_nn_4/assets\n"
     ]
    },
    {
     "name": "stdout",
     "output_type": "stream",
     "text": [
      "Epoch 11/30\n",
      "2455/2455 [==============================] - 4s 2ms/step - loss: 0.8285 - mse: 0.8285 - mae: 0.6237 - mape: 110623.2891 - val_loss: 0.8331 - val_mse: 0.8331 - val_mae: 0.6261 - val_mape: 111899.8906\n",
      "Epoch 12/30\n",
      "2455/2455 [==============================] - 4s 2ms/step - loss: 0.8284 - mse: 0.8284 - mae: 0.6237 - mape: 106068.8672 - val_loss: 0.8326 - val_mse: 0.8326 - val_mae: 0.6265 - val_mape: 138052.8438\n",
      "INFO:tensorflow:Assets written to: ../outputs/models/my_simple_nn_4/assets\n"
     ]
    },
    {
     "name": "stderr",
     "output_type": "stream",
     "text": [
      "INFO:tensorflow:Assets written to: ../outputs/models/my_simple_nn_4/assets\n"
     ]
    },
    {
     "name": "stdout",
     "output_type": "stream",
     "text": [
      "Epoch 13/30\n",
      "2455/2455 [==============================] - 4s 2ms/step - loss: 0.8284 - mse: 0.8284 - mae: 0.6236 - mape: 105969.5547 - val_loss: 0.8333 - val_mse: 0.8333 - val_mae: 0.6266 - val_mape: 86790.0938\n",
      "Epoch 14/30\n",
      "2455/2455 [==============================] - 4s 2ms/step - loss: 0.8279 - mse: 0.8279 - mae: 0.6235 - mape: 106299.3984 - val_loss: 0.8325 - val_mse: 0.8325 - val_mae: 0.6262 - val_mape: 105316.5938\n",
      "INFO:tensorflow:Assets written to: ../outputs/models/my_simple_nn_4/assets\n"
     ]
    },
    {
     "name": "stderr",
     "output_type": "stream",
     "text": [
      "INFO:tensorflow:Assets written to: ../outputs/models/my_simple_nn_4/assets\n"
     ]
    },
    {
     "name": "stdout",
     "output_type": "stream",
     "text": [
      "Epoch 15/30\n",
      "2455/2455 [==============================] - 5s 2ms/step - loss: 0.8277 - mse: 0.8277 - mae: 0.6235 - mape: 102051.8125 - val_loss: 0.8319 - val_mse: 0.8319 - val_mae: 0.6256 - val_mape: 124183.8047\n",
      "INFO:tensorflow:Assets written to: ../outputs/models/my_simple_nn_4/assets\n"
     ]
    },
    {
     "name": "stderr",
     "output_type": "stream",
     "text": [
      "INFO:tensorflow:Assets written to: ../outputs/models/my_simple_nn_4/assets\n"
     ]
    },
    {
     "name": "stdout",
     "output_type": "stream",
     "text": [
      "Epoch 16/30\n",
      "2455/2455 [==============================] - 4s 2ms/step - loss: 0.8274 - mse: 0.8274 - mae: 0.6234 - mape: 107439.3984 - val_loss: 0.8318 - val_mse: 0.8318 - val_mae: 0.6259 - val_mape: 118609.5000\n",
      "INFO:tensorflow:Assets written to: ../outputs/models/my_simple_nn_4/assets\n"
     ]
    },
    {
     "name": "stderr",
     "output_type": "stream",
     "text": [
      "INFO:tensorflow:Assets written to: ../outputs/models/my_simple_nn_4/assets\n"
     ]
    },
    {
     "name": "stdout",
     "output_type": "stream",
     "text": [
      "Epoch 17/30\n",
      "2455/2455 [==============================] - 4s 2ms/step - loss: 0.8274 - mse: 0.8274 - mae: 0.6234 - mape: 106502.5859 - val_loss: 0.8328 - val_mse: 0.8328 - val_mae: 0.6266 - val_mape: 98210.7266\n",
      "Epoch 18/30\n",
      "2455/2455 [==============================] - 4s 2ms/step - loss: 0.8273 - mse: 0.8273 - mae: 0.6234 - mape: 109073.7422 - val_loss: 0.8324 - val_mse: 0.8324 - val_mae: 0.6262 - val_mape: 110613.9844\n",
      "Epoch 19/30\n",
      "2455/2455 [==============================] - 4s 2ms/step - loss: 0.8270 - mse: 0.8270 - mae: 0.6232 - mape: 105816.8750 - val_loss: 0.8319 - val_mse: 0.8319 - val_mae: 0.6262 - val_mape: 97067.3672\n",
      "Epoch 20/30\n",
      "2455/2455 [==============================] - 4s 2ms/step - loss: 0.8271 - mse: 0.8271 - mae: 0.6233 - mape: 107795.2188 - val_loss: 0.8323 - val_mse: 0.8323 - val_mae: 0.6259 - val_mape: 113607.2031\n",
      "Epoch 21/30\n",
      "2455/2455 [==============================] - 4s 2ms/step - loss: 0.8271 - mse: 0.8271 - mae: 0.6232 - mape: 105495.1562 - val_loss: 0.8324 - val_mse: 0.8324 - val_mae: 0.6258 - val_mape: 118149.6250\n",
      "Epoch 22/30\n",
      "2455/2455 [==============================] - 4s 2ms/step - loss: 0.8269 - mse: 0.8269 - mae: 0.6232 - mape: 103576.0859 - val_loss: 0.8323 - val_mse: 0.8323 - val_mae: 0.6263 - val_mape: 109089.2734\n",
      "Epoch 23/30\n",
      "2455/2455 [==============================] - 4s 2ms/step - loss: 0.8265 - mse: 0.8265 - mae: 0.6231 - mape: 105561.4922 - val_loss: 0.8318 - val_mse: 0.8318 - val_mae: 0.6262 - val_mape: 106183.9297\n",
      "Epoch 24/30\n",
      "2455/2455 [==============================] - 4s 2ms/step - loss: 0.8266 - mse: 0.8266 - mae: 0.6232 - mape: 107313.2969 - val_loss: 0.8320 - val_mse: 0.8320 - val_mae: 0.6259 - val_mape: 94923.4766\n",
      "Epoch 25/30\n",
      "2455/2455 [==============================] - 4s 2ms/step - loss: 0.8264 - mse: 0.8264 - mae: 0.6231 - mape: 108411.2188 - val_loss: 0.8314 - val_mse: 0.8314 - val_mae: 0.6257 - val_mape: 82570.8594\n",
      "INFO:tensorflow:Assets written to: ../outputs/models/my_simple_nn_4/assets\n"
     ]
    },
    {
     "name": "stderr",
     "output_type": "stream",
     "text": [
      "INFO:tensorflow:Assets written to: ../outputs/models/my_simple_nn_4/assets\n"
     ]
    },
    {
     "name": "stdout",
     "output_type": "stream",
     "text": [
      "Epoch 26/30\n",
      "2455/2455 [==============================] - 4s 2ms/step - loss: 0.8262 - mse: 0.8262 - mae: 0.6231 - mape: 107744.0156 - val_loss: 0.8321 - val_mse: 0.8321 - val_mae: 0.6261 - val_mape: 116754.9375\n",
      "Epoch 27/30\n",
      "2455/2455 [==============================] - 4s 2ms/step - loss: 0.8261 - mse: 0.8261 - mae: 0.6231 - mape: 108200.8828 - val_loss: 0.8316 - val_mse: 0.8316 - val_mae: 0.6257 - val_mape: 104806.8047\n",
      "Epoch 28/30\n",
      "2455/2455 [==============================] - 4s 2ms/step - loss: 0.8264 - mse: 0.8264 - mae: 0.6231 - mape: 104557.9453 - val_loss: 0.8316 - val_mse: 0.8316 - val_mae: 0.6258 - val_mape: 115114.7578\n",
      "Epoch 29/30\n",
      "2455/2455 [==============================] - 4s 2ms/step - loss: 0.8258 - mse: 0.8258 - mae: 0.6230 - mape: 106342.1250 - val_loss: 0.8315 - val_mse: 0.8315 - val_mae: 0.6260 - val_mape: 99928.5469\n",
      "Epoch 30/30\n",
      "2455/2455 [==============================] - 4s 2ms/step - loss: 0.8260 - mse: 0.8260 - mae: 0.6229 - mape: 109069.4297 - val_loss: 0.8315 - val_mse: 0.8315 - val_mae: 0.6261 - val_mape: 122104.2734\n",
      "Pearson: (0.12842647311063662, 0.0)\n"
     ]
    },
    {
     "data": {
      "image/png": "[encoded data removed]",
      "text/plain": [
       "<Figure size 432x288 with 1 Axes>"
      ]
     },
     "metadata": {
      "needs_background": "light"
     },
     "output_type": "display_data"
    },
    {
     "data": {
      "image/png": "[encoded data removed]",
      "text/plain": [
       "<Figure size 432x288 with 1 Axes>"
      ]
     },
     "metadata": {
      "needs_background": "light"
     },
     "output_type": "display_data"
    }
   ],
   "source": [
    "from sklearn.model_selection import KFold, StratifiedKFold\n",
    "\n",
    "models = []\n",
    "kfold = KFold(5, shuffle=True, random_state=23)\n",
    "# kfold = StratifiedKFold(5, shuffle=True, random_state=23)\n",
    "\n",
    "for i, (train_indices, target_indices) in enumerate(kfold.split(train[features], investment_id)):\n",
    "    X_train, X_val = train.loc[train_indices, features], train.loc[target_indices, features]\n",
    "    y_train, y_val = y.loc[train_indices], y.loc[target_indices]\n",
    "    investment_id_train, investment_id_val = investment_id.loc[train_indices], investment_id.loc[target_indices]\n",
    "    train_ds = make_dataset(X_train, y_train, investment_id_train)\n",
    "    val_ds = make_dataset(X_val, y_val, investment_id_val, mode='val')\n",
    "\n",
    "    model = get_model()\n",
    "    history = model.fit(\n",
    "        train_ds,\n",
    "        validation_data=val_ds,\n",
    "        epochs=epochs,\n",
    "        callbacks=get_callbacks(i)\n",
    "    )\n",
    "    k.models.load_model(f'../outputs/models/simple_nn_{i}')\n",
    "    models.append(model)\n",
    "\n",
    "    pearson_score = stats.pearsonr(model.predict(val_ds).ravel(), y_val.values)\n",
    "    print('Pearson:', pearson_score)\n",
    "    pd.DataFrame(history.history, columns=['mse', 'val_mse']).plot()\n",
    "    plt.title(\"MSE\")\n",
    "    pd.DataFrame(history.history, columns=['mae', 'val_mae']).plot()\n",
    "    plt.title(\"MAE\")\n",
    "    plt.show()\n",
    "    # break"
   ]
  },
  {
   "cell_type": "code",
   "execution_count": 84,
   "metadata": {},
   "outputs": [
    {
     "name": "stdout",
     "output_type": "stream",
     "text": [
      "WARNING:tensorflow:5 out of the last 618 calls to <function Model.make_predict_function.<locals>.predict_function at 0x7f65fdbd04c0> triggered tf.function retracing. Tracing is expensive and the excessive number of tracings could be due to (1) creating @tf.function repeatedly in a loop, (2) passing tensors with different shapes, (3) passing Python objects instead of tensors. For (1), please define your @tf.function outside of the loop. For (2), @tf.function has experimental_relax_shapes=True option that relaxes argument shapes that can avoid unnecessary retracing. For (3), please refer to https://www.tensorflow.org/guide/function#controlling_retracing and https://www.tensorflow.org/api_docs/python/tf/function for  more details.\n"
     ]
    },
    {
     "name": "stderr",
     "output_type": "stream",
     "text": [
      "WARNING:tensorflow:5 out of the last 618 calls to <function Model.make_predict_function.<locals>.predict_function at 0x7f65fdbd04c0> triggered tf.function retracing. Tracing is expensive and the excessive number of tracings could be due to (1) creating @tf.function repeatedly in a loop, (2) passing tensors with different shapes, (3) passing Python objects instead of tensors. For (1), please define your @tf.function outside of the loop. For (2), @tf.function has experimental_relax_shapes=True option that relaxes argument shapes that can avoid unnecessary retracing. For (3), please refer to https://www.tensorflow.org/guide/function#controlling_retracing and https://www.tensorflow.org/api_docs/python/tf/function for  more details.\n"
     ]
    },
    {
     "name": "stdout",
     "output_type": "stream",
     "text": [
      "WARNING:tensorflow:6 out of the last 619 calls to <function Model.make_predict_function.<locals>.predict_function at 0x7f6636c5fe50> triggered tf.function retracing. Tracing is expensive and the excessive number of tracings could be due to (1) creating @tf.function repeatedly in a loop, (2) passing tensors with different shapes, (3) passing Python objects instead of tensors. For (1), please define your @tf.function outside of the loop. For (2), @tf.function has experimental_relax_shapes=True option that relaxes argument shapes that can avoid unnecessary retracing. For (3), please refer to https://www.tensorflow.org/guide/function#controlling_retracing and https://www.tensorflow.org/api_docs/python/tf/function for  more details.\n"
     ]
    },
    {
     "name": "stderr",
     "output_type": "stream",
     "text": [
      "WARNING:tensorflow:6 out of the last 619 calls to <function Model.make_predict_function.<locals>.predict_function at 0x7f6636c5fe50> triggered tf.function retracing. Tracing is expensive and the excessive number of tracings could be due to (1) creating @tf.function repeatedly in a loop, (2) passing tensors with different shapes, (3) passing Python objects instead of tensors. For (1), please define your @tf.function outside of the loop. For (2), @tf.function has experimental_relax_shapes=True option that relaxes argument shapes that can avoid unnecessary retracing. For (3), please refer to https://www.tensorflow.org/guide/function#controlling_retracing and https://www.tensorflow.org/api_docs/python/tf/function for  more details.\n"
     ]
    },
    {
     "data": {
      "text/html": [
       "<div>\n",
       "<style scoped>\n",
       "    .dataframe tbody tr th:only-of-type {\n",
       "        vertical-align: middle;\n",
       "    }\n",
       "\n",
       "    .dataframe tbody tr th {\n",
       "        vertical-align: top;\n",
       "    }\n",
       "\n",
       "    .dataframe thead th {\n",
       "        text-align: right;\n",
       "    }\n",
       "</style>\n",
       "<table border=\"1\" class=\"dataframe\">\n",
       "  <thead>\n",
       "    <tr style=\"text-align: right;\">\n",
       "      <th></th>\n",
       "      <th>row_id</th>\n",
       "      <th>time_id</th>\n",
       "      <th>target</th>\n",
       "    </tr>\n",
       "  </thead>\n",
       "  <tbody>\n",
       "    <tr>\n",
       "      <th>0</th>\n",
       "      <td>1220_1</td>\n",
       "      <td>1220</td>\n",
       "      <td>-0.040276</td>\n",
       "    </tr>\n",
       "    <tr>\n",
       "      <th>1</th>\n",
       "      <td>1220_2</td>\n",
       "      <td>1220</td>\n",
       "      <td>-0.015451</td>\n",
       "    </tr>\n",
       "    <tr>\n",
       "      <th>2</th>\n",
       "      <td>1221_0</td>\n",
       "      <td>1221</td>\n",
       "      <td>-0.038039</td>\n",
       "    </tr>\n",
       "    <tr>\n",
       "      <th>3</th>\n",
       "      <td>1221_1</td>\n",
       "      <td>1221</td>\n",
       "      <td>-0.029273</td>\n",
       "    </tr>\n",
       "    <tr>\n",
       "      <th>4</th>\n",
       "      <td>1221_2</td>\n",
       "      <td>1221</td>\n",
       "      <td>-0.041659</td>\n",
       "    </tr>\n",
       "    <tr>\n",
       "      <th>5</th>\n",
       "      <td>1222_0</td>\n",
       "      <td>1222</td>\n",
       "      <td>-0.029919</td>\n",
       "    </tr>\n",
       "    <tr>\n",
       "      <th>6</th>\n",
       "      <td>1222_1</td>\n",
       "      <td>1222</td>\n",
       "      <td>-0.032001</td>\n",
       "    </tr>\n",
       "    <tr>\n",
       "      <th>7</th>\n",
       "      <td>1222_2</td>\n",
       "      <td>1222</td>\n",
       "      <td>-0.039596</td>\n",
       "    </tr>\n",
       "    <tr>\n",
       "      <th>8</th>\n",
       "      <td>1223_0</td>\n",
       "      <td>1223</td>\n",
       "      <td>-0.018495</td>\n",
       "    </tr>\n",
       "  </tbody>\n",
       "</table>\n",
       "</div>"
      ],
      "text/plain": [
       "   row_id  time_id    target\n",
       "0  1220_1     1220 -0.040276\n",
       "1  1220_2     1220 -0.015451\n",
       "2  1221_0     1221 -0.038039\n",
       "3  1221_1     1221 -0.029273\n",
       "4  1221_2     1221 -0.041659\n",
       "5  1222_0     1222 -0.029919\n",
       "6  1222_1     1222 -0.032001\n",
       "7  1222_2     1222 -0.039596\n",
       "8  1223_0     1223 -0.018495"
      ]
     },
     "execution_count": 84,
     "metadata": {},
     "output_type": "execute_result"
    }
   ],
   "source": [
    "def eval_models(models):\n",
    "    test = pd.read_csv('../inputs/dataset/example_test.csv')\n",
    "    x_test = test[features]\n",
    "    ss = pd.read_csv('../inputs/dataset/example_sample_submission.csv')\n",
    "    ss.target = np.mean([model.predict(x_test) for model in models], axis=0)\n",
    "\n",
    "    return ss\n",
    "\n",
    "\n",
    "eval_models(models)"
   ]
  },
  {
   "cell_type": "code",
   "execution_count": 86,
   "metadata": {},
   "outputs": [],
   "source": [
    "\n",
    "\n",
    "\n",
    "def preprocess_test(feature):\n",
    "    return feature, 0\n",
    "\n",
    "def make_test_dataset(feature, investment_id, batch_size=1024):\n",
    "#     ds = tf.data.Dataset.from_tensor_slices(((investment_id, feature)))\n",
    "    ds = tf.data.Dataset.from_tensor_slices(feature)\n",
    "    ds = ds.map(preprocess_test)\n",
    "    ds = ds.batch(batch_size).cache().prefetch(tf.data.experimental.AUTOTUNE)\n",
    "    return ds\n",
    "\n",
    "def inference(models, ds):\n",
    "    y_preds = []\n",
    "    for model in models:\n",
    "        y_pred = model.predict(ds)\n",
    "        y_preds.append(y_pred)\n",
    "    return np.mean(y_preds, axis=0).ravel()\n",
    "\n",
    "\n",
    "\n",
    "test_df = pd.read_csv('../inputs/dataset/example_test.csv')\n",
    "sample_prediction_df = pd.read_csv('../inputs/dataset/example_sample_submission.csv')\n",
    "\n",
    "\n",
    "ds = make_test_dataset(test_df[features], test_df[\"investment_id\"])\n",
    "sample_prediction_df['target'] = inference(models, ds)"
   ]
  },
  {
   "cell_type": "code",
   "execution_count": null,
   "metadata": {},
   "outputs": [],
   "source": []
  }
 ],
 "metadata": {
  "interpreter": {
   "hash": "443e5afc14cc646f3c61a1a21a69eac719484dfd22d3a12f7936bb3e6085bc76"
  },
  "kernelspec": {
   "display_name": "Python 3.9.10 ('ubiquant')",
   "language": "python",
   "name": "python3"
  },
  "language_info": {
   "codemirror_mode": {
    "name": "ipython",
    "version": 3
   },
   "file_extension": ".py",
   "mimetype": "text/x-python",
   "name": "python",
   "nbconvert_exporter": "python",
   "pygments_lexer": "ipython3",
   "version": "3.9.10"
  },
  "orig_nbformat": 4
 },
 "nbformat": 4,
 "nbformat_minor": 2
}
